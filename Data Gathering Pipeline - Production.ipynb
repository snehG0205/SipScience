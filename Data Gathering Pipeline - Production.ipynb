{
 "cells": [
  {
   "cell_type": "code",
   "execution_count": 104,
   "metadata": {},
   "outputs": [],
   "source": [
    "import requests\n",
    "import pandas as pd\n",
    "import json  \n",
    "from pandas.io.json import json_normalize  \n",
    "import psycopg2\n",
    "import time\n",
    "\n",
    "pd.set_option('display.max_columns', None)\n",
    "pd.set_option('display.max_rows', None)\n",
    "pd.set_option('display.max_colwidth', -1)"
   ]
  },
  {
   "cell_type": "code",
   "execution_count": 105,
   "metadata": {},
   "outputs": [
    {
     "name": "stdout",
     "output_type": "stream",
     "text": [
      "20200701-172249\n"
     ]
    }
   ],
   "source": [
    "\n",
    "timestr = time.strftime(\"%Y%m%d-%H%M%S\")\n",
    "print(timestr)"
   ]
  },
  {
   "cell_type": "code",
   "execution_count": 106,
   "metadata": {},
   "outputs": [],
   "source": [
    "link = 'https://api.omnivore.io/1.0/locations/'\n",
    "\n",
    "headers = {\n",
    "    'Api-Key': '3a01cc5779ef4e3784658607fc188719',\n",
    "}\n",
    "\n",
    "response = requests.get(link, headers=headers)\n",
    "s = response.text\n",
    "j = json.loads(s)\n"
   ]
  },
  {
   "cell_type": "code",
   "execution_count": 107,
   "metadata": {},
   "outputs": [],
   "source": [
    "df = json_normalize(j['_embedded']['locations'])"
   ]
  },
  {
   "cell_type": "code",
   "execution_count": 108,
   "metadata": {},
   "outputs": [],
   "source": [
    "location_ids = df['id'].tolist()\n",
    "# location_ids"
   ]
  },
  {
   "cell_type": "code",
   "execution_count": 109,
   "metadata": {},
   "outputs": [],
   "source": [
    "link_new = link+location_ids[0]+\"/tickets/\"\n",
    "\n",
    "headers = {\n",
    "    'Api-Key': '3a01cc5779ef4e3784658607fc188719',\n",
    "}\n",
    "\n",
    "response = requests.get(link_new, headers=headers)\n",
    "s = response.text\n",
    "j = json.loads(s)\n"
   ]
  },
  {
   "cell_type": "code",
   "execution_count": 110,
   "metadata": {},
   "outputs": [
    {
     "data": {
      "text/plain": [
       "'https://api.omnivore.io/1.0/locations/iMEy8xgT/tickets/'"
      ]
     },
     "execution_count": 110,
     "metadata": {},
     "output_type": "execute_result"
    }
   ],
   "source": [
    "link_new"
   ]
  },
  {
   "cell_type": "code",
   "execution_count": 111,
   "metadata": {},
   "outputs": [],
   "source": [
    "fname = \"data_\"+timestr+\".json\"\n",
    "with open(fname, 'w') as f:\n",
    "        json.dump(j, f)\n",
    "    \n",
    "df = json_normalize(j['_embedded']['tickets'])  \n",
    "# df.columns"
   ]
  },
  {
   "cell_type": "code",
   "execution_count": 112,
   "metadata": {},
   "outputs": [],
   "source": [
    "item_name = []\n",
    "item_category = []\n",
    "for x in df['_embedded.items']:\n",
    "    x = json_normalize(x)\n",
    "    if x.empty:\n",
    "        item_name.append(\"None\")\n",
    "        item_category.append(\"None\")\n",
    "    else:\n",
    "        item_all = x['_embedded.menu_item.name']\n",
    "        cat_j = x['_embedded.menu_item._embedded.menu_categories']\n",
    "        items = ', '.join(item_all.tolist())\n",
    "        cat_all = []\n",
    "        for q in cat_j:\n",
    "            p = json_normalize(q)\n",
    "            c = p['name']\n",
    "            c = set(c)\n",
    "            l = ', '.join(list(c))\n",
    "            cat_all.append(l)\n",
    "            cat_all = list(set(cat_all))\n",
    "        categories = ', '.join((cat_all))\n",
    "\n",
    "        item_name.append(items)\n",
    "        item_category.append(categories)"
   ]
  },
  {
   "cell_type": "code",
   "execution_count": 113,
   "metadata": {
    "scrolled": false
   },
   "outputs": [],
   "source": [
    "new_df = pd.DataFrame()\n",
    "new_df['Ticket_ID'] = df['id']\n",
    "new_df['Total'] = df['totals.total']/100\n",
    "new_df['Subtotal'] = df['totals.sub_total']/100\n",
    "new_df['Tax'] = df['totals.tax']/100\n",
    "new_df['Tips'] = df['totals.tips']/100\n",
    "new_df['Opened At'] = df['opened_at']\n",
    "new_df['Closed At'] = df['closed_at']\n",
    "new_df['Order Type'] = df['_embedded.order_type.name']\n",
    "new_df['Item Name'] = item_name\n",
    "new_df['Category Name'] = item_category\n",
    "new_df['Closed At'] = new_df['Closed At'].fillna(\"None\")\n",
    "# new_df.set_index(\"Ticket_ID\", inplace = True) \n",
    "\n",
    "opened_unix = new_df['Opened At'].tolist()\n",
    "closed_unix = new_df['Closed At'].tolist()\n",
    "opened_ts = []\n",
    "closed_ts = []\n",
    "for i in opened_unix:\n",
    "    ts = int(i)\n",
    "    opened_ts.append(datetime.utcfromtimestamp(ts).strftime('%Y-%m-%d %H:%M:%S'))\n",
    "\n",
    "for j in closed_unix:\n",
    "    ts = int(i)\n",
    "    closed_ts.append(datetime.utcfromtimestamp(ts).strftime('%Y-%m-%d %H:%M:%S'))\n",
    "\n",
    "opened_ts,closed_ts\n",
    "new_df['Opened At'] = opened_ts\n",
    "new_df['Closed At'] = closed_ts\n",
    "\n"
   ]
  },
  {
   "cell_type": "code",
   "execution_count": 114,
   "metadata": {},
   "outputs": [],
   "source": [
    "hostname = '127.0.0.1'\n",
    "username = 'snehgajiwala'\n",
    "password = 'gajiwala'\n",
    "database = 'snehgajiwala'"
   ]
  },
  {
   "cell_type": "code",
   "execution_count": 115,
   "metadata": {},
   "outputs": [],
   "source": [
    "connection = psycopg2.connect( host=hostname, user=username, password=password, dbname=database )\n",
    "cursor = connection.cursor()\n",
    "\n",
    "cursor.execute( \"SELECT ticketid FROM OmnivoreDatanew\" )\n",
    "existing_tickets = []\n",
    "for tId in cursor.fetchall() :\n",
    "    existing_tickets.append(str(tId[0]))\n",
    "    \n",
    "new_df=new_df[~new_df['Ticket_ID'].isin(existing_tickets)]\n"
   ]
  },
  {
   "cell_type": "code",
   "execution_count": 116,
   "metadata": {},
   "outputs": [
    {
     "name": "stdout",
     "output_type": "stream",
     "text": [
      "Records inserted\n"
     ]
    }
   ],
   "source": [
    "# connection = psycopg2.connect( host=hostname, user=username, password=password, dbname=database )\n",
    "# cursor = connection.cursor()\n",
    "\n",
    "\n",
    "if not new_df.empty:\n",
    "    for Ticket_ID, record in new_df.groupby('Ticket_ID'):\n",
    "        ticketId = str(record['Ticket_ID'].values[0])\n",
    "        total = str(record['Total'].values[0])\n",
    "        subtotal = str(record['Subtotal'].values[0])\n",
    "        tax = str(record['Tax'].values[0])\n",
    "        tips = str(record['Tips'].values[0])\n",
    "        openedAt = str(record['Opened At'].values[0])\n",
    "        closedAt = str(record['Closed At'].values[0])\n",
    "        orderType = str(record['Order Type'].values[0])\n",
    "        itemName = str(record['Item Name'].values[0])\n",
    "        catName = str(record['Category Name'].values[0])\n",
    "\n",
    "\n",
    "\n",
    "        postgres_insert_query =  \"INSERT INTO OmnivoreDatanew VALUES (%s,%s,%s,%s,%s,%s,%s,%s,%s,%s);\"\n",
    "        record_to_insert = (ticketId,total,subtotal,tax,openedAt,closedAt,orderType,itemName,catName,tips)\n",
    "        cursor.execute(postgres_insert_query, record_to_insert)\n",
    "        connection.commit()\n",
    "    \n",
    "    print(\"Records inserted\")\n",
    "\n",
    "else:\n",
    "    print(\"Database is up to date\")\n",
    "    \n",
    "    \n",
    "    \n",
    "cursor.close()\n",
    "connection.close()"
   ]
  },
  {
   "cell_type": "code",
   "execution_count": 121,
   "metadata": {},
   "outputs": [],
   "source": [
    "fname = 'ProductionData_'+timestr +'.csv'\n",
    "new_df.set_index(\"Ticket_ID\", inplace = True) \n",
    "new_df.to_csv(fname)"
   ]
  },
  {
   "cell_type": "code",
   "execution_count": null,
   "metadata": {},
   "outputs": [],
   "source": []
  },
  {
   "cell_type": "code",
   "execution_count": 118,
   "metadata": {},
   "outputs": [],
   "source": [
    "connection = psycopg2.connect( host=hostname, user=username, password=password, dbname=database )\n",
    "cursor = connection.cursor()\n",
    "\n",
    "master_df = pd.DataFrame(columns=['Ticket ID','Total','Subtotal','Tax','Opened At','Closed At','Order Type','Item Name','Category Name','Tips'])\n",
    "\n",
    "cursor.execute( \"SELECT * FROM OmnivoreDatanew\" )\n",
    "existing_tickets = []\n",
    "for (ticketId,total,subtotal,tax,openedAt,closedAt,orderType,itemName,catName,tips) in cursor.fetchall() :\n",
    "    master_df.loc[len(master_df)]=[ticketId,total,subtotal,tax,openedAt,closedAt,orderType,itemName,catName,tips] \n",
    "#     print(ticketId)"
   ]
  },
  {
   "cell_type": "code",
   "execution_count": null,
   "metadata": {},
   "outputs": [],
   "source": []
  }
 ],
 "metadata": {
  "kernelspec": {
   "display_name": "Python 3",
   "language": "python",
   "name": "python3"
  },
  "language_info": {
   "codemirror_mode": {
    "name": "ipython",
    "version": 3
   },
   "file_extension": ".py",
   "mimetype": "text/x-python",
   "name": "python",
   "nbconvert_exporter": "python",
   "pygments_lexer": "ipython3",
   "version": "3.7.4"
  }
 },
 "nbformat": 4,
 "nbformat_minor": 2
}
