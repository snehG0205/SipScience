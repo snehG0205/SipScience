{
 "cells": [
  {
   "cell_type": "code",
   "execution_count": 1,
   "metadata": {},
   "outputs": [],
   "source": [
    "import requests\n",
    "import pandas as pd\n",
    "import json  \n",
    "from pandas.io.json import json_normalize  \n",
    "import psycopg2\n",
    "import time\n",
    "\n",
    "from datetime import datetime\n",
    "\n",
    "pd.set_option('display.max_columns', None)\n",
    "pd.set_option('display.max_rows', None)\n",
    "pd.set_option('display.max_colwidth', -1)"
   ]
  },
  {
   "cell_type": "code",
   "execution_count": 15,
   "metadata": {},
   "outputs": [
    {
     "data": {
      "text/plain": [
       "Index(['auto_send', 'closed_at', 'fire_date', 'fire_time', 'guest_count', 'id',\n",
       "       'name', 'open', 'opened_at', 'pos_id', 'ready_date', 'ready_time',\n",
       "       'ticket_number', 'void', '_embedded.discounts',\n",
       "       '_embedded.employee._links.clock_entries.href',\n",
       "       '_embedded.employee._links.clock_entries.type',\n",
       "       '_embedded.employee._links.open_tickets.href',\n",
       "       '_embedded.employee._links.open_tickets.type',\n",
       "       '_embedded.employee._links.pay_rates.href',\n",
       "       '_embedded.employee._links.pay_rates.type',\n",
       "       '_embedded.employee._links.self.href',\n",
       "       '_embedded.employee._links.self.type', '_embedded.employee.check_name',\n",
       "       '_embedded.employee.first_name', '_embedded.employee.id',\n",
       "       '_embedded.employee.last_name', '_embedded.employee.login',\n",
       "       '_embedded.employee.middle_name', '_embedded.employee.pos_id',\n",
       "       '_embedded.employee.start_date', '_embedded.items',\n",
       "       '_embedded.order_type._links.self.href',\n",
       "       '_embedded.order_type._links.self.type',\n",
       "       '_embedded.order_type.available', '_embedded.order_type.id',\n",
       "       '_embedded.order_type.name', '_embedded.order_type.pos_id',\n",
       "       '_embedded.payments',\n",
       "       '_embedded.revenue_center._links.open_tickets.href',\n",
       "       '_embedded.revenue_center._links.open_tickets.type',\n",
       "       '_embedded.revenue_center._links.self.href',\n",
       "       '_embedded.revenue_center._links.self.type',\n",
       "       '_embedded.revenue_center._links.tables.href',\n",
       "       '_embedded.revenue_center._links.tables.type',\n",
       "       '_embedded.revenue_center.default', '_embedded.revenue_center.id',\n",
       "       '_embedded.revenue_center.name', '_embedded.revenue_center.pos_id',\n",
       "       '_embedded.service_charges', '_embedded.table._links.open_tickets.href',\n",
       "       '_embedded.table._links.open_tickets.type',\n",
       "       '_embedded.table._links.self.href', '_embedded.table._links.self.type',\n",
       "       '_embedded.table.available', '_embedded.table.id',\n",
       "       '_embedded.table.name', '_embedded.table.number',\n",
       "       '_embedded.table.pos_id', '_embedded.table.seats',\n",
       "       '_embedded.voided_items', '_links.discounts.href',\n",
       "       '_links.discounts.type', '_links.employee.href', '_links.employee.type',\n",
       "       '_links.items.href', '_links.items.type', '_links.order_type.href',\n",
       "       '_links.order_type.type', '_links.payments.href',\n",
       "       '_links.payments.type', '_links.revenue_center.href',\n",
       "       '_links.revenue_center.type', '_links.self.href', '_links.self.type',\n",
       "       '_links.service_charges.href', '_links.service_charges.type',\n",
       "       '_links.subscriptions.href', '_links.subscriptions.type',\n",
       "       '_links.table.href', '_links.table.type', '_links.voided_items.href',\n",
       "       '_links.voided_items.type', 'totals.discounts', 'totals.due',\n",
       "       'totals.exclusive_tax', 'totals.inclusive_tax', 'totals.items',\n",
       "       'totals.other_charges', 'totals.paid', 'totals.service_charges',\n",
       "       'totals.sub_total', 'totals.tax', 'totals.tips', 'totals.total'],\n",
       "      dtype='object')"
      ]
     },
     "execution_count": 15,
     "metadata": {},
     "output_type": "execute_result"
    }
   ],
   "source": [
    "link = 'https://api.omnivore.io/1.0/locations/'\n",
    "\n",
    "headers = {\n",
    "    'Api-Key': '3a01cc5779ef4e3784658607fc188719',\n",
    "}\n",
    "\n",
    "response = requests.get(link, headers=headers)\n",
    "s = response.text\n",
    "j = json.loads(s)\n",
    "\n",
    "df = json_normalize(j['_embedded']['locations'])\n",
    "\n",
    "location_ids = df['id'].tolist()\n",
    "\n",
    "link_new = link+location_ids[0]+\"/tickets/\"\n",
    "\n",
    "headers = {\n",
    "    'Api-Key': '3a01cc5779ef4e3784658607fc188719',\n",
    "}\n",
    "\n",
    "response = requests.get(link_new, headers=headers)\n",
    "s = response.text\n",
    "j = json.loads(s)\n",
    "\n",
    "df = json_normalize(j['_embedded']['tickets'])  \n",
    "df.columns"
   ]
  },
  {
   "cell_type": "code",
   "execution_count": 30,
   "metadata": {},
   "outputs": [
    {
     "name": "stdout",
     "output_type": "stream",
     "text": [
      "['Brunch Items', 'Food', 'Catering']\n",
      "0\n",
      "1\n",
      "2\n",
      "['Brunch Items', 'Food', 'Catering']\n",
      "0\n",
      "1\n",
      "2\n",
      "['Brunch Items', 'Food', 'À la Carte']\n",
      "0\n",
      "1\n",
      "2\n",
      "['Brunch Items', 'Food', 'À la Carte']\n",
      "0\n",
      "1\n",
      "2\n",
      "['Brunch Items', 'Food', 'À la Carte']\n",
      "0\n",
      "1\n",
      "2\n",
      "[['Catering', 'Food', 'Brunch Items'], ['Catering', 'Brunch Items', 'Food'], ['Catering', 'Food', 'Brunch Items'], ['Catering', 'Food', 'Brunch Items'], ['Catering', 'Brunch Items', 'Food'], ['Catering', 'Food', 'Brunch Items'], ['Food', 'Brunch Items', 'À la Carte'], ['Brunch Items', 'Food', 'À la Carte'], ['Food', 'Brunch Items', 'À la Carte'], ['Food', 'Brunch Items', 'À la Carte'], ['Brunch Items', 'Food', 'À la Carte'], ['Food', 'Brunch Items', 'À la Carte'], ['Food', 'Brunch Items', 'À la Carte'], ['Brunch Items', 'Food', 'À la Carte'], ['Food', 'Brunch Items', 'À la Carte']]\n",
      "*********\n",
      "['Brunch Items', 'Food', 'Catering']\n",
      "0\n",
      "1\n",
      "2\n",
      "['Brunch Items', 'Food', 'Catering']\n",
      "0\n",
      "1\n",
      "2\n",
      "['Apps', 'Food', 'Apps']\n",
      "0\n",
      "1\n",
      "2\n"
     ]
    },
    {
     "ename": "IndexError",
     "evalue": "list index out of range",
     "output_type": "error",
     "traceback": [
      "\u001b[0;31m---------------------------------------------------------------------------\u001b[0m",
      "\u001b[0;31mIndexError\u001b[0m                                Traceback (most recent call last)",
      "\u001b[0;32m<ipython-input-30-fdf307d8aad6>\u001b[0m in \u001b[0;36m<module>\u001b[0;34m\u001b[0m\n\u001b[1;32m     13\u001b[0m                 \u001b[0;32mfor\u001b[0m \u001b[0mi\u001b[0m \u001b[0;32min\u001b[0m \u001b[0mrange\u001b[0m\u001b[0;34m(\u001b[0m\u001b[0mlen\u001b[0m\u001b[0;34m(\u001b[0m\u001b[0mz\u001b[0m\u001b[0;34m)\u001b[0m\u001b[0;34m)\u001b[0m\u001b[0;34m:\u001b[0m\u001b[0;34m\u001b[0m\u001b[0;34m\u001b[0m\u001b[0m\n\u001b[1;32m     14\u001b[0m                     \u001b[0mprint\u001b[0m\u001b[0;34m(\u001b[0m\u001b[0mi\u001b[0m\u001b[0;34m)\u001b[0m\u001b[0;34m\u001b[0m\u001b[0;34m\u001b[0m\u001b[0m\n\u001b[0;32m---> 15\u001b[0;31m                     \u001b[0mz\u001b[0m\u001b[0;34m[\u001b[0m\u001b[0mi\u001b[0m\u001b[0;34m]\u001b[0m \u001b[0;34m=\u001b[0m \u001b[0mz\u001b[0m\u001b[0;34m[\u001b[0m\u001b[0mi\u001b[0m\u001b[0;34m]\u001b[0m\u001b[0;34m.\u001b[0m\u001b[0mstrip\u001b[0m\u001b[0;34m(\u001b[0m\u001b[0;34m)\u001b[0m\u001b[0;34m\u001b[0m\u001b[0;34m\u001b[0m\u001b[0m\n\u001b[0m\u001b[1;32m     16\u001b[0m                     \u001b[0mz\u001b[0m \u001b[0;34m=\u001b[0m \u001b[0mlist\u001b[0m\u001b[0;34m(\u001b[0m\u001b[0mset\u001b[0m\u001b[0;34m(\u001b[0m\u001b[0mz\u001b[0m\u001b[0;34m)\u001b[0m\u001b[0;34m)\u001b[0m\u001b[0;34m\u001b[0m\u001b[0;34m\u001b[0m\u001b[0m\n\u001b[1;32m     17\u001b[0m                     \u001b[0mcategory_list\u001b[0m\u001b[0;34m.\u001b[0m\u001b[0mappend\u001b[0m\u001b[0;34m(\u001b[0m\u001b[0mz\u001b[0m\u001b[0;34m)\u001b[0m\u001b[0;34m\u001b[0m\u001b[0;34m\u001b[0m\u001b[0m\n",
      "\u001b[0;31mIndexError\u001b[0m: list index out of range"
     ]
    }
   ],
   "source": [
    "item_data = pd.DataFrame(columns = ['Ticket_Id', 'Opened_At','Closed_At','Item_Name', 'Categories'])\n",
    "\n",
    "for Ticket_Id, tickets in df.groupby('id'):\n",
    "    for x in tickets['_embedded.items']:\n",
    "        x = json_normalize(x)\n",
    "        if not x.empty:\n",
    "#             print(x.name)\n",
    "            category_list = []\n",
    "            for y in x['_embedded.menu_item._embedded.menu_categories']:\n",
    "                y = json_normalize(y)\n",
    "                z = y.name.tolist()\n",
    "                print(z)\n",
    "                for i in range(len(z)):\n",
    "                    print(i)\n",
    "                    z[i] = z[i].strip()\n",
    "                z = list(set(z))\n",
    "                category_list.append(z)\n",
    "            print(category_list)\n",
    "    print(\"*********\")\n",
    " \n",
    "            \n"
   ]
  },
  {
   "cell_type": "code",
   "execution_count": null,
   "metadata": {},
   "outputs": [],
   "source": []
  }
 ],
 "metadata": {
  "kernelspec": {
   "display_name": "Python 3",
   "language": "python",
   "name": "python3"
  },
  "language_info": {
   "codemirror_mode": {
    "name": "ipython",
    "version": 3
   },
   "file_extension": ".py",
   "mimetype": "text/x-python",
   "name": "python",
   "nbconvert_exporter": "python",
   "pygments_lexer": "ipython3",
   "version": "3.7.4"
  }
 },
 "nbformat": 4,
 "nbformat_minor": 2
}
